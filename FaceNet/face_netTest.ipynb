{
 "cells": [
  {
   "cell_type": "code",
   "execution_count": null,
   "metadata": {},
   "outputs": [],
   "source": [
    "import torch\n",
    "import numpy as np\n",
    "from facenet_pytorch import InceptionResnetV1, MTCNN\n",
    "from PIL import Image\n",
    "import torchvision.transforms as transforms\n",
    "\n",
    "# Load mô hình phát hiện khuôn mặt\n",
    "mtcnn = MTCNN(keep_all=False, post_process=True)\n",
    "\n",
    "# Load mô hình nhận diện khuôn mặt\n",
    "model = InceptionResnetV1(pretrained='vggface2').eval()\n",
    "\n",
    "# Hàm phát hiện khuôn mặt và cắt ảnh\n",
    "def detect_and_crop_face(image_path):\n",
    "    image = Image.open(image_path).convert('RGB')\n",
    "    face = mtcnn(image)  # Phát hiện khuôn mặt\n",
    "\n",
    "    if face is None:\n",
    "        print(f\"Không tìm thấy khuôn mặt trong {image_path}\")\n",
    "        return None\n",
    "\n",
    "    return face.unsqueeze(0)  # Thêm batch dimension\n",
    "\n",
    "# Load và trích xuất embedding cho hai ảnh\n",
    "img1 = detect_and_crop_face(\"image1.jpg\")\n",
    "img2 = detect_and_crop_face(\"image2.jpg\")\n",
    "\n",
    "if img1 is not None and img2 is not None:\n",
    "    with torch.no_grad():\n",
    "        emb1 = model(img1)\n",
    "        emb2 = model(img2)\n",
    "\n",
    "    # Tính khoảng cách Euclidean\n",
    "    distance = torch.norm(emb1 - emb2).item()\n",
    "\n",
    "    # So sánh với ngưỡng\n",
    "    threshold = 0.8  # Ngưỡng tùy chỉnh\n",
    "    if distance < threshold:\n",
    "        print(\"Hai ảnh có thể là cùng một người.\")\n",
    "    else:\n",
    "        print(\"Hai ảnh có thể là hai người khác nhau.\")\n",
    "\n",
    "    print(f\"Khoảng cách Euclidean: {distance:.4f}\")\n"
   ]
  }
 ],
 "metadata": {
  "kernelspec": {
   "display_name": "Python 3",
   "language": "python",
   "name": "python3"
  },
  "language_info": {
   "codemirror_mode": {
    "name": "ipython",
    "version": 3
   },
   "file_extension": ".py",
   "mimetype": "text/x-python",
   "name": "python",
   "nbconvert_exporter": "python",
   "pygments_lexer": "ipython3",
   "version": "3.10.6"
  }
 },
 "nbformat": 4,
 "nbformat_minor": 2
}
