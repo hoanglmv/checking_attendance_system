{
 "cells": [
  {
   "cell_type": "code",
   "execution_count": null,
   "metadata": {},
   "outputs": [],
   "source": [
    "import torch\n",
    "import numpy as np\n",
    "import cv2\n",
    "from facenet_pytorch import InceptionResnetV1\n",
    "from torchvision import transforms\n",
    "\n",
    "# Load model FaceNet pretrained\n",
    "model = InceptionResnetV1(pretrained='vggface2').eval()\n",
    "\n",
    "# Tiền xử lý ảnh\n",
    "def preprocess_image(image_path):\n",
    "    image = cv2.imread(image_path)\n",
    "    image = cv2.cvtColor(image, cv2.COLOR_BGR2RGB)\n",
    "    transform = transforms.Compose([\n",
    "        transforms.ToPILImage(),\n",
    "        transforms.Resize((160, 160)),  \n",
    "        transforms.ToTensor(),\n",
    "        transforms.Normalize([0.5], [0.5])\n",
    "    ])\n",
    "    return transform(image).unsqueeze(0)\n",
    "\n",
    "# Tính embedding của ảnh\n",
    "def get_embedding(image_path):\n",
    "    image_tensor = preprocess_image(image_path)\n",
    "    with torch.no_grad():\n",
    "        embedding = model(image_tensor)\n",
    "    return embedding\n",
    "\n",
    "# Tính khoảng cách cosine\n",
    "def cosine_similarity(emb1, emb2):\n",
    "    emb1 = emb1 / emb1.norm(p=2)\n",
    "    emb2 = emb2 / emb2.norm(p=2)\n",
    "    return torch.dot(emb1.squeeze(0), emb2.squeeze(0)).item()\n",
    "\n",
    "# So sánh 2 ảnh\n",
    "def compare_faces(img1_path, img2_path, threshold=0.6):\n",
    "    emb1 = get_embedding(img1_path)\n",
    "    emb2 = get_embedding(img2_path)\n",
    "    similarity = cosine_similarity(emb1, emb2)\n",
    "    print(f\"Cosine Similarity: {similarity:.4f}\")\n",
    "    \n",
    "    if similarity > threshold:\n",
    "        print(\"→ Hai ảnh là cùng một người.\")\n",
    "    else:\n",
    "        print(\"→ Hai ảnh là hai người khác nhau.\")\n",
    "\n",
    "# Chạy thử\n",
    "img1 = \"path_to_image1.jpg\"\n",
    "img2 = \"path_to_image2.jpg\"\n",
    "compare_faces(img1, img2)\n"
   ]
  }
 ],
 "metadata": {
  "kernelspec": {
   "display_name": "Python 3",
   "language": "python",
   "name": "python3"
  },
  "language_info": {
   "codemirror_mode": {
    "name": "ipython",
    "version": 3
   },
   "file_extension": ".py",
   "mimetype": "text/x-python",
   "name": "python",
   "nbconvert_exporter": "python",
   "pygments_lexer": "ipython3",
   "version": "3.10.6"
  }
 },
 "nbformat": 4,
 "nbformat_minor": 2
}
